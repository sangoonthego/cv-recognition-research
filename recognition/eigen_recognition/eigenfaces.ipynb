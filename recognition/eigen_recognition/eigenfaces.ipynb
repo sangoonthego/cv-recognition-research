{
 "cells": [
  {
   "cell_type": "code",
   "execution_count": 93,
   "id": "dbf62bbf",
   "metadata": {},
   "outputs": [],
   "source": [
    "import numpy as np\n",
    "import matplotlib.pyplot as plt\n",
    "from sklearn.datasets import fetch_olivetti_faces\n",
    "from sklearn.model_selection import train_test_split"
   ]
  },
  {
   "cell_type": "markdown",
   "id": "5a4b33fd",
   "metadata": {},
   "source": [
    "Load Dataset Olivetti"
   ]
  },
  {
   "cell_type": "code",
   "execution_count": 94,
   "id": "b9b9197a",
   "metadata": {},
   "outputs": [
    {
     "name": "stdout",
     "output_type": "stream",
     "text": [
      "(400, 4096)\n"
     ]
    }
   ],
   "source": [
    "faces = fetch_olivetti_faces(shuffle=True, random_state=42)\n",
    "X = faces.data   # (400, 4096) mỗi ảnh flatten thành vector\n",
    "y = faces.target\n",
    "\n",
    "print(X.shape)"
   ]
  },
  {
   "cell_type": "markdown",
   "id": "3b98c232",
   "metadata": {},
   "source": [
    "Split Data Ratio 8/2"
   ]
  },
  {
   "cell_type": "code",
   "execution_count": 95,
   "id": "1c107aad",
   "metadata": {},
   "outputs": [
    {
     "name": "stdout",
     "output_type": "stream",
     "text": [
      "320 80\n"
     ]
    }
   ],
   "source": [
    "X_train, X_test, y_train, y_test = train_test_split(X, y, test_size=0.2, random_state=42)\n",
    "print(len(X_train), len(X_test))"
   ]
  },
  {
   "cell_type": "markdown",
   "id": "552aac12",
   "metadata": {},
   "source": [
    "Mean Face Cal and Centered Data"
   ]
  },
  {
   "cell_type": "code",
   "execution_count": 96,
   "id": "dc02a2bd",
   "metadata": {},
   "outputs": [
    {
     "name": "stdout",
     "output_type": "stream",
     "text": [
      "[[-0.2561596  -0.28489137 -0.28211516 ... -0.04449919  0.05702481\n",
      "  -0.03505951]\n",
      " [ 0.05375776  0.07048053  0.0567278  ...  0.01335207  0.15206614\n",
      "   0.20874217]\n",
      " [-0.06194472 -0.0658831  -0.207735   ... -0.00730911  0.00330579\n",
      "   0.01039505]\n",
      " ...\n",
      " [ 0.29342717  0.27295986  0.23441377 ... -0.00730911  0.02809918\n",
      "   0.0186595 ]\n",
      " [ 0.4008652   0.36386898  0.31292614 ... -0.00317687 -0.00082642\n",
      "   0.04758513]\n",
      " [ 0.23557597  0.17791852  0.16003361 ... -0.17259836 -0.20330578\n",
      "  -0.20448099]]\n"
     ]
    }
   ],
   "source": [
    "mean_face = np.mean(X_train, axis=0)\n",
    "X_train_centered = X_train - mean_face\n",
    "X_test_centered = X_test - mean_face\n",
    "print(X_train_centered)"
   ]
  },
  {
   "cell_type": "markdown",
   "id": "28ffa6e5",
   "metadata": {},
   "source": [
    "Coveriance Matrix (small trick)"
   ]
  },
  {
   "cell_type": "code",
   "execution_count": 97,
   "id": "e41a99b1",
   "metadata": {},
   "outputs": [
    {
     "name": "stdout",
     "output_type": "stream",
     "text": [
      "(320, 320)\n"
     ]
    }
   ],
   "source": [
    "N = X_train_centered.shape[0]\n",
    "C_small = np.dot(X_train_centered, X_train_centered.T) / N\n",
    "print(C_small.shape)"
   ]
  },
  {
   "cell_type": "markdown",
   "id": "97b776cd",
   "metadata": {},
   "source": [
    "Eigen Decomposition"
   ]
  },
  {
   "cell_type": "code",
   "execution_count": 98,
   "id": "4eefaca8",
   "metadata": {},
   "outputs": [],
   "source": [
    "eigen_values, eigen_vectors_small = np.linalg.eigh(C_small)\n",
    "\n",
    "idx = np.argsort(-eigen_values)\n",
    "eigen_values = eigen_values[idx]\n",
    "eigen_vectors_small = eigen_vectors_small[:, idx]\n",
    "\n",
    "eigen_vectors = np.dot(X_train_centered.T, eigen_vectors_small)\n",
    "eigen_vectors = eigen_vectors / np.linalg.norm(eigen_vectors, axis=0, keepdims=True)"
   ]
  },
  {
   "cell_type": "markdown",
   "id": "c532bd28",
   "metadata": {},
   "source": [
    "K eigenfaces"
   ]
  },
  {
   "cell_type": "code",
   "execution_count": 99,
   "id": "cac98a1d",
   "metadata": {},
   "outputs": [],
   "source": [
    "k = 200\n",
    "eigen_faces = eigen_vectors[:, :k]"
   ]
  },
  {
   "cell_type": "markdown",
   "id": "793f24d6",
   "metadata": {},
   "source": [
    "Projection"
   ]
  },
  {
   "cell_type": "code",
   "execution_count": 100,
   "id": "862686b2",
   "metadata": {},
   "outputs": [
    {
     "name": "stdout",
     "output_type": "stream",
     "text": [
      "Accuracy of Eigen + KNN Recognition: 0.82\n"
     ]
    }
   ],
   "source": [
    "X_train_project = np.dot(X_train_centered, eigen_faces)\n",
    "X_test_project = np.dot(X_test_centered, eigen_faces)\n",
    "\n",
    "def knn(test_vector, train_project, train_labels, k=3):\n",
    "    distances = np.linalg.norm(train_project - test_vector, axis=1)\n",
    "    idx = np.argsort(distances)[:k]\n",
    "    nearest_labels = train_labels[idx]\n",
    "\n",
    "    # major vote\n",
    "    values, counts = np.unique(nearest_labels, return_counts=True)\n",
    "    return values[np.argmax(counts)]\n",
    "\n",
    "y_preds = []\n",
    "for test_vector in X_test_project:\n",
    "    label = knn(test_vector, X_train_project, y_train, k=3)\n",
    "    y_preds.append(label)\n",
    "\n",
    "y_preds = np.array(y_preds)\n",
    "accuracy = np.mean(y_preds == y_test)\n",
    "print(f\"Accuracy of Eigen + KNN Recognition: {accuracy:.2f}\")"
   ]
  },
  {
   "cell_type": "code",
   "execution_count": null,
   "id": "2e8256d5",
   "metadata": {},
   "outputs": [],
   "source": []
  }
 ],
 "metadata": {
  "kernelspec": {
   "display_name": "Python 3",
   "language": "python",
   "name": "python3"
  },
  "language_info": {
   "codemirror_mode": {
    "name": "ipython",
    "version": 3
   },
   "file_extension": ".py",
   "mimetype": "text/x-python",
   "name": "python",
   "nbconvert_exporter": "python",
   "pygments_lexer": "ipython3",
   "version": "3.13.2"
  }
 },
 "nbformat": 4,
 "nbformat_minor": 5
}
