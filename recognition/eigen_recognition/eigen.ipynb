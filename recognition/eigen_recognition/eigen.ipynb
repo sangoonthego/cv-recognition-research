{
 "cells": [
  {
   "cell_type": "code",
   "execution_count": 19,
   "id": "b115b217",
   "metadata": {},
   "outputs": [],
   "source": [
    "import os\n",
    "import re\n",
    "import csv\n",
    "import shutil\n",
    "from pathlib import Path\n",
    "from PIL import Image\n",
    "import numpy as np\n",
    "import matplotlib.pyplot as plt\n",
    "from sklearn.model_selection import train_test_split"
   ]
  },
  {
   "cell_type": "markdown",
   "id": "617f6f19",
   "metadata": {},
   "source": [
    "Constraints"
   ]
  },
  {
   "cell_type": "code",
   "execution_count": null,
   "id": "3d761811",
   "metadata": {},
   "outputs": [
    {
     "name": "stdout",
     "output_type": "stream",
     "text": [
      "Nums of Images in Dataset: 7219\n"
     ]
    }
   ],
   "source": [
    "# constraints\n",
    "dataset_dir = \"Humans\"\n",
    "processed_data_dir = \"processed_data\"\n",
    "image_size = (64, 64)\n",
    "test_size = 0.2\n",
    "random_state = 42\n",
    "num_eigenfaces = 200\n",
    "knn_k = 3\n",
    "\n",
    "num_images = len([file for file in os.listdir(dataset_dir) if os.path.isfile(os.path.join(dataset_dir, file))])\n",
    "print(\"Nums of Images in Dataset:\", num_images)"
   ]
  },
  {
   "cell_type": "markdown",
   "id": "4b35b104",
   "metadata": {},
   "source": [
    "Create Folder: images and labels"
   ]
  },
  {
   "cell_type": "code",
   "execution_count": 23,
   "id": "068fe8cc",
   "metadata": {},
   "outputs": [],
   "source": [
    "os.makedirs(processed_data_dir, exist_ok=True)\n",
    "images_folder = os.path.join(processed_data_dir, \"images\")\n",
    "labels_folder = os.path.join(processed_data_dir, \"labels\")\n",
    "os.makedirs(images_folder, exist_ok=True)\n",
    "os.makedirs(labels_folder, exist_ok=True)"
   ]
  },
  {
   "cell_type": "code",
   "execution_count": 26,
   "id": "356d2a63",
   "metadata": {},
   "outputs": [
    {
     "name": "stdout",
     "output_type": "stream",
     "text": [
      "Copied 7219 images to processed_data\\images and wrote labels to processed_data\\labels\\labels.csv\n"
     ]
    }
   ],
   "source": [
    "def parse_label_from_filename(fname):\n",
    "    m = re.match(r\"(\\d+)\", fname)\n",
    "    if m:\n",
    "        return int(m.group(1))\n",
    "    return -1\n",
    "\n",
    "all_files = sorted([file for file in os.listdir(dataset_dir) if file.lower().endswith(('.jpg','.jpeg','.png'))])\n",
    "if len(all_files) == 0:\n",
    "    raise SystemExit(f\"No images found in {dataset_dir}\")\n",
    "\n",
    "labels_csv_path = os.path.join(labels_folder, \"labels.csv\")\n",
    "with open(labels_csv_path, mode=\"w\", newline='', encoding='utf-8') as file:\n",
    "    writer = csv.writer(file)\n",
    "    writer.writerow([\"filename\", \"label\"])\n",
    "    for filename in all_files:\n",
    "        label = parse_label_from_filename(filename)\n",
    "        src = os.path.join(dataset_dir, filename)\n",
    "        dst = os.path.join(images_folder, filename)\n",
    "        shutil.copy2(src, dst)   # copy image to images_folder\n",
    "        writer.writerow([filename, label])\n",
    "print(f\"Copied {len(all_files)} images to {images_folder} and wrote labels to {labels_csv_path}\")"
   ]
  },
  {
   "cell_type": "markdown",
   "id": "8bd111de",
   "metadata": {},
   "source": [
    "Load Images into Memory (flatten -> X-matrix), load labels from csv"
   ]
  },
  {
   "cell_type": "code",
   "execution_count": 27,
   "id": "2bb54768",
   "metadata": {},
   "outputs": [
    {
     "name": "stderr",
     "output_type": "stream",
     "text": [
      "c:\\Users\\TUAN NGOC\\AppData\\Local\\Programs\\Python\\Python313\\Lib\\site-packages\\PIL\\Image.py:1043: UserWarning: Palette images with Transparency expressed in bytes should be converted to RGBA images\n",
      "  warnings.warn(\n"
     ]
    },
    {
     "name": "stdout",
     "output_type": "stream",
     "text": [
      "Loaded X shape: (7219, 4096), y shape: (7219,), unique labels: [1] ...\n"
     ]
    }
   ],
   "source": [
    "def load_images_and_labels(images_folder, labels_csv, img_size=(64,64), drop_unknown=False):\n",
    "    X_list = []\n",
    "    y_list = []\n",
    "    filenames = []\n",
    "    # read labels\n",
    "    label_map = {}\n",
    "    with open(labels_csv, newline='', encoding='utf-8') as f:\n",
    "        reader = csv.DictReader(f)\n",
    "        for row in reader:\n",
    "            label_map[row['filename']] = int(row['label'])\n",
    "\n",
    "    for fname in sorted(os.listdir(images_folder)):\n",
    "        if not fname.lower().endswith(('.jpg','.jpeg','.png')):\n",
    "            continue\n",
    "        label = label_map.get(fname, -1)\n",
    "        if drop_unknown and label == -1:\n",
    "            continue\n",
    "        path = os.path.join(images_folder, fname)\n",
    "        try:\n",
    "            img = Image.open(path).convert('L').resize(img_size, Image.BILINEAR)\n",
    "            arr = np.asarray(img, dtype=np.float32).ravel() / 255.0   # normalize [0,1]\n",
    "            X_list.append(arr)\n",
    "            y_list.append(label)\n",
    "            filenames.append(fname)\n",
    "        except Exception as e:\n",
    "            print(f\"Skipping {fname}: {e}\")\n",
    "\n",
    "    X = np.stack(X_list)\n",
    "    y = np.array(y_list)\n",
    "    return X, y, filenames\n",
    "\n",
    "X, y, fnames = load_images_and_labels(images_folder, labels_csv_path, img_size=image_size, drop_unknown=False)\n",
    "print(f\"Loaded X shape: {X.shape}, y shape: {y.shape}, unique labels: {np.unique(y)[:10]} ...\")"
   ]
  },
  {
   "cell_type": "code",
   "execution_count": 28,
   "id": "352acbcb",
   "metadata": {},
   "outputs": [
    {
     "name": "stdout",
     "output_type": "stream",
     "text": [
      "Number of unknown label entries: 0\n"
     ]
    }
   ],
   "source": [
    "num_unknown = np.sum(y == -1)\n",
    "print(f\"Number of unknown label entries: {num_unknown}\")\n",
    "if num_unknown > 0:\n",
    "    # choose to drop them (you can also keep but they'd be a single class)\n",
    "    mask = (y != -1)\n",
    "    X = X[mask]\n",
    "    y = y[mask]\n",
    "    fnames = [f for i,f in enumerate(fnames) if mask[i]]\n",
    "    print(f\"Dropped unknowns. New X shape: {X.shape}\")"
   ]
  },
  {
   "cell_type": "code",
   "execution_count": 29,
   "id": "0f0e1263",
   "metadata": {},
   "outputs": [
    {
     "name": "stdout",
     "output_type": "stream",
     "text": [
      "Number of classes after mapping: 1\n"
     ]
    }
   ],
   "source": [
    "unique_labels = sorted(list(set(y.tolist())))\n",
    "label_to_idx = {lab: idx for idx, lab in enumerate(unique_labels)}\n",
    "y_idx = np.array([label_to_idx[lab] for lab in y])\n",
    "print(f\"Number of classes after mapping: {len(unique_labels)}\")"
   ]
  },
  {
   "cell_type": "code",
   "execution_count": 30,
   "id": "ee9fac95",
   "metadata": {},
   "outputs": [
    {
     "name": "stdout",
     "output_type": "stream",
     "text": [
      "Train shape: (5775, 4096), Test shape: (1444, 4096)\n"
     ]
    }
   ],
   "source": [
    "if len(unique_labels) > 1:\n",
    "    X_train, X_test, y_train, y_test = train_test_split(\n",
    "        X, y_idx, test_size=test_size, random_state=random_state, stratify=y_idx\n",
    "    )\n",
    "else:\n",
    "    X_train, X_test, y_train, y_test = train_test_split(\n",
    "        X, y_idx, test_size=test_size, random_state=random_state\n",
    "    )\n",
    "print(f\"Train shape: {X_train.shape}, Test shape: {X_test.shape}\")"
   ]
  },
  {
   "cell_type": "code",
   "execution_count": 31,
   "id": "1d521ff8",
   "metadata": {},
   "outputs": [],
   "source": [
    "mean_face = np.mean(X_train, axis=0)             # shape (d,)\n",
    "X_train_centered = X_train - mean_face          # (N_train, d)\n",
    "X_test_centered = X_test - mean_face"
   ]
  },
  {
   "cell_type": "code",
   "execution_count": 32,
   "id": "07cfc143",
   "metadata": {},
   "outputs": [
    {
     "name": "stdout",
     "output_type": "stream",
     "text": [
      "A shape: (5775, 4096). Computing C_small (N x N) ...\n"
     ]
    }
   ],
   "source": [
    "A = X_train_centered\n",
    "N_train, d = A.shape\n",
    "print(f\"A shape: {A.shape}. Computing C_small (N x N) ...\")\n",
    "C_small = (A @ A.T) / N_train"
   ]
  },
  {
   "cell_type": "code",
   "execution_count": 34,
   "id": "f4e563ef",
   "metadata": {},
   "outputs": [
    {
     "name": "stdout",
     "output_type": "stream",
     "text": [
      "Performing eigen-decomposition of C_small ...\n"
     ]
    }
   ],
   "source": [
    "print(\"Performing eigen-decomposition of C_small ...\")\n",
    "eigen_values_small, eigen_vectors_small = np.linalg.eigh(C_small)"
   ]
  },
  {
   "cell_type": "code",
   "execution_count": 37,
   "id": "ace57255",
   "metadata": {},
   "outputs": [
    {
     "name": "stdout",
     "output_type": "stream",
     "text": [
      "Mapping small-space eigenvectors -> eigenfaces in original space ...\n",
      "Found 3064 valid eigenfaces (non-zero eigenvalues).\n"
     ]
    }
   ],
   "source": [
    "# sort descending\n",
    "idx = np.argsort(eigen_values_small)[::-1]\n",
    "eigen_values_small = eigen_values_small[idx]\n",
    "eigen_vectors_small = eigen_vectors_small[:, idx]\n",
    "\n",
    "# map eigenvectors to original high-dimensional space\n",
    "print(\"Mapping small-space eigenvectors -> eigenfaces in original space ...\")\n",
    "eigen_vectors = A.T @ eigen_vectors_small    # shape (d, N_train)\n",
    "\n",
    "# normalize each eigenface (column)\n",
    "eps = 1e-12\n",
    "norms = np.linalg.norm(eigen_vectors, axis=0, keepdims=True)\n",
    "eigen_vectors = eigen_vectors / (norms + eps)\n",
    "\n",
    "# filter non-zero eigenvalues (numerical)\n",
    "valid_mask = eigen_values_small > 1e-8\n",
    "eigen_values = eigen_values_small[valid_mask]\n",
    "eigen_faces_all = eigen_vectors[:, valid_mask]\n",
    "print(f\"Found {eigen_faces_all.shape[1]} valid eigenfaces (non-zero eigenvalues).\")"
   ]
  },
  {
   "cell_type": "code",
   "execution_count": 38,
   "id": "d8e128bf",
   "metadata": {},
   "outputs": [
    {
     "name": "stdout",
     "output_type": "stream",
     "text": [
      "Chose k=200 eigenfaces. Fraction of variance in selected comps: 95.99%\n"
     ]
    }
   ],
   "source": [
    "k = min(num_eigenfaces, eigen_faces_all.shape[1])\n",
    "eigen_faces = eigen_faces_all[:, :k]     # shape (d, k)\n",
    "eigenvalues = eigen_values[:k]\n",
    "explained = np.sum(eigenvalues) / np.sum(eigen_values)\n",
    "print(f\"Chose k={k} eigenfaces. Fraction of variance in selected comps: {explained*100:.2f}%\")"
   ]
  },
  {
   "cell_type": "code",
   "execution_count": 39,
   "id": "7844fb97",
   "metadata": {},
   "outputs": [
    {
     "name": "stdout",
     "output_type": "stream",
     "text": [
      "Projected train/test into k-dim feature space: (5775, 200), (1444, 200)\n"
     ]
    }
   ],
   "source": [
    "# 9) Project data into eigenface space (feature extraction)\n",
    "#    projection = X_centered @ eigenfaces  -> (N, k)\n",
    "# -----------------------------\n",
    "X_train_project = X_train_centered @ eigen_faces   # (N_train, k)\n",
    "X_test_project = X_test_centered @ eigen_faces     # (N_test, k)\n",
    "print(f\"Projected train/test into k-dim feature space: {X_train_project.shape}, {X_test_project.shape}\")"
   ]
  },
  {
   "cell_type": "code",
   "execution_count": 40,
   "id": "4e689c68",
   "metadata": {},
   "outputs": [],
   "source": [
    "# 10) KNN from scratch (Euclidean + majority vote)\n",
    "# -----------------------------\n",
    "def knn_predict_one(test_vector, train_project, train_labels, k=3):\n",
    "    dists = np.linalg.norm(train_project - test_vector, axis=1)\n",
    "    nearest_idx = np.argsort(dists)[:k]\n",
    "    nearest_labels = train_labels[nearest_idx]\n",
    "    vals, counts = np.unique(nearest_labels, return_counts=True)\n",
    "    return vals[np.argmax(counts)]\n",
    "\n",
    "def knn_predict_batch(test_project, train_project, train_labels, k=3):\n",
    "    preds = []\n",
    "    for test_vector in test_project:\n",
    "        preds.append(knn_predict_one(test_vector, train_project, train_labels, k=k))\n",
    "    return np.array(preds)\n"
   ]
  },
  {
   "cell_type": "code",
   "execution_count": 45,
   "id": "1ebfc9ed",
   "metadata": {},
   "outputs": [
    {
     "name": "stdout",
     "output_type": "stream",
     "text": [
      "Running KNN classification...\n",
      "Accuracy (Eigenfaces + KNN): 1.00\n"
     ]
    }
   ],
   "source": [
    "print(\"Running KNN classification...\")\n",
    "y_pred = knn_predict_batch(X_test_project, X_train_project, y_train, k=knn_k)\n",
    "accuracy = np.mean(y_pred == y_test)\n",
    "print(f\"Accuracy (Eigenfaces + KNN): {accuracy:.2f}\")"
   ]
  },
  {
   "cell_type": "code",
   "execution_count": 46,
   "id": "35194289",
   "metadata": {},
   "outputs": [
    {
     "data": {
      "text/plain": [
       "(np.float64(-0.5), np.float64(63.5), np.float64(63.5), np.float64(-0.5))"
      ]
     },
     "execution_count": 46,
     "metadata": {},
     "output_type": "execute_result"
    },
    {
     "data": {
      "image/png": "[encoded data removed]",
      "text/plain": [
       "<Figure size 1200x400 with 1 Axes>"
      ]
     },
     "metadata": {},
     "output_type": "display_data"
    }
   ],
   "source": [
    "# 11) Plot Mean Face and some eigenfaces, and show original vs reconstructed for a sample test image\n",
    "# -----------------------------\n",
    "d = image_size[0]\n",
    "plt.figure(figsize=(12,4))\n",
    "plt.subplot(1, 6, 1)\n",
    "plt.imshow(mean_face.reshape(image_size), cmap='gray')\n",
    "plt.title(\"Mean face\")\n",
    "plt.axis('off')"
   ]
  },
  {
   "cell_type": "code",
   "execution_count": 47,
   "id": "8b3be417",
   "metadata": {},
   "outputs": [
    {
     "data": {
      "image/png": "[encoded data removed]",
      "text/plain": [
       "<Figure size 640x480 with 5 Axes>"
      ]
     },
     "metadata": {},
     "output_type": "display_data"
    }
   ],
   "source": [
    "# show first 5 eigenfaces\n",
    "for i in range(5):\n",
    "    if i >= eigen_faces.shape[1]:\n",
    "        break\n",
    "    plt.subplot(1, 6, i+2)\n",
    "    plt.imshow(eigen_faces[:, i].reshape(image_size), cmap='gray')\n",
    "    plt.title(f\"Eig {i+1}\")\n",
    "    plt.axis('off')\n",
    "plt.suptitle(\"Mean face + first 5 eigenfaces\")\n",
    "plt.show()"
   ]
  },
  {
   "cell_type": "code",
   "execution_count": 48,
   "id": "e2290971",
   "metadata": {},
   "outputs": [
    {
     "data": {
      "image/png": "[encoded data removed]",
      "text/plain": [
       "<Figure size 800x400 with 2 Axes>"
      ]
     },
     "metadata": {},
     "output_type": "display_data"
    }
   ],
   "source": [
    "# reconstruction example: choose one test index\n",
    "test_idx = 0\n",
    "proj_vec = X_test_project[test_idx]\n",
    "recon = mean_face + eigen_faces @ proj_vec   # (d,)\n",
    "orig = X_test[test_idx]\n",
    "\n",
    "plt.figure(figsize=(8,4))\n",
    "plt.subplot(1,2,1)\n",
    "plt.imshow(orig.reshape(image_size), cmap='gray')\n",
    "plt.title(\"Original (test)\")\n",
    "plt.axis('off')\n",
    "\n",
    "plt.subplot(1,2,2)\n",
    "plt.imshow(recon.reshape(image_size), cmap='gray')\n",
    "plt.title(f\"Reconstruction (k={k})\")\n",
    "plt.axis('off')\n",
    "plt.show()"
   ]
  },
  {
   "cell_type": "code",
   "execution_count": 49,
   "id": "b2636a77",
   "metadata": {},
   "outputs": [
    {
     "name": "stdout",
     "output_type": "stream",
     "text": [
      "Saved pipeline outputs to processed_data/eigenfaces_pipeline.npz\n"
     ]
    }
   ],
   "source": [
    "# 12) Save results (optional)\n",
    "# -----------------------------\n",
    "np.savez_compressed(os.path.join(processed_data_dir, \"eigenfaces_pipeline.npz\"),\n",
    "                    mean_face=mean_face, eigenfaces=eigen_faces, eigenvalues=eigenvalues,\n",
    "                    X_train_project=X_train_project, X_test_project=X_test_project,\n",
    "                    y_train=y_train, y_test=y_test, label_map=unique_labels)\n",
    "print(f\"Saved pipeline outputs to {processed_data_dir}/eigenfaces_pipeline.npz\")\n"
   ]
  },
  {
   "cell_type": "code",
   "execution_count": null,
   "id": "37083ad5",
   "metadata": {},
   "outputs": [],
   "source": []
  }
 ],
 "metadata": {
  "kernelspec": {
   "display_name": "Python 3",
   "language": "python",
   "name": "python3"
  },
  "language_info": {
   "codemirror_mode": {
    "name": "ipython",
    "version": 3
   },
   "file_extension": ".py",
   "mimetype": "text/x-python",
   "name": "python",
   "nbconvert_exporter": "python",
   "pygments_lexer": "ipython3",
   "version": "3.13.2"
  }
 },
 "nbformat": 4,
 "nbformat_minor": 5
}
